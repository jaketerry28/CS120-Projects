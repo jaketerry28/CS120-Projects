{
 "cells": [
  {
   "cell_type": "code",
   "execution_count": 81,
   "id": "3be51b84-ed25-40ad-9ece-83a5545a63d0",
   "metadata": {},
   "outputs": [
    {
     "name": "stdout",
     "output_type": "stream",
     "text": [
      "This is a dungeon game!\n",
      "\n"
     ]
    },
    {
     "name": "stdin",
     "output_type": "stream",
     "text": [
      "Enter how many will be playing.\n",
      " 2\n",
      "Enter your name player 1.\n",
      " Jake\n"
     ]
    },
    {
     "name": "stdout",
     "output_type": "stream",
     "text": [
      "\n"
     ]
    },
    {
     "name": "stdin",
     "output_type": "stream",
     "text": [
      "Enter your name player 2.\n",
      " Grace\n"
     ]
    },
    {
     "name": "stdout",
     "output_type": "stream",
     "text": [
      "\n",
      "The game will begin! \n",
      "The board has 24 spaces.\n",
      "Reach the end and gather the most points to win!\n",
      "\n",
      "------------------------\n"
     ]
    },
    {
     "name": "stdin",
     "output_type": "stream",
     "text": [
      "Jake you have 0 points \n",
      "Press enter to roll.\n",
      " \n"
     ]
    },
    {
     "name": "stdout",
     "output_type": "stream",
     "text": [
      "Jake rolled a 5!\n",
      "\n",
      "Jake moves to 5.\n",
      "\n",
      "Jake: You stepped onto a trap!\n",
      "\n",
      "\n",
      "1: Try to disarm the trap (risky!)\n",
      "2: Walk around it (-1 point)\n",
      "\n"
     ]
    },
    {
     "name": "stdin",
     "output_type": "stream",
     "text": [
      "Choose\n",
      " 1\n"
     ]
    },
    {
     "name": "stdout",
     "output_type": "stream",
     "text": [
      "The trap catches you! You lose 3 points!\n",
      "\n",
      "Jake gains -3 points. Current points are -3.\n",
      "\n",
      "------------------------\n"
     ]
    },
    {
     "name": "stdin",
     "output_type": "stream",
     "text": [
      "Grace you have 0 points \n",
      "Press enter to roll.\n",
      " \n"
     ]
    },
    {
     "name": "stdout",
     "output_type": "stream",
     "text": [
      "Grace rolled a 3!\n",
      "\n",
      "Grace moves to 3.\n",
      "\n",
      "Grace: You meet a wandering merchant.\n",
      "\n",
      "\n",
      "1: Trade 3 points for a magic item (+8 points)\n",
      "2: Ignore him (no effect)\n",
      "3: Rob him! (-8 points if you lose, +12 points if you win)\n",
      "\n"
     ]
    },
    {
     "name": "stdin",
     "output_type": "stream",
     "text": [
      "Choose\n",
      " 2\n"
     ]
    },
    {
     "name": "stdout",
     "output_type": "stream",
     "text": [
      "You ignored the merchant.\n",
      "\n",
      "------------------------\n"
     ]
    },
    {
     "name": "stdin",
     "output_type": "stream",
     "text": [
      "Jake you have -3 points \n",
      "Press enter to roll.\n",
      " \n"
     ]
    },
    {
     "name": "stdout",
     "output_type": "stream",
     "text": [
      "Jake rolled a 3!\n",
      "\n",
      "Jake moves to 8.\n",
      "\n",
      "Jake: You find a treasure chest!\n",
      "\n",
      "\n",
      "1 - Open the treasure chest (Requires a roll).\n",
      "2 - Ignore it.\n",
      "\n"
     ]
    },
    {
     "name": "stdin",
     "output_type": "stream",
     "text": [
      "Choose\n",
      " 2\n"
     ]
    },
    {
     "name": "stdout",
     "output_type": "stream",
     "text": [
      "You ignore the chest.\n",
      "\n",
      "------------------------\n"
     ]
    },
    {
     "name": "stdin",
     "output_type": "stream",
     "text": [
      "Grace you have 0 points \n",
      "Press enter to roll.\n",
      " \n"
     ]
    },
    {
     "name": "stdout",
     "output_type": "stream",
     "text": [
      "Grace rolled a 6!\n",
      "\n",
      "Grace moves to 9.\n",
      "\n",
      "Grace: A goblin blocks your path!\n",
      "\n",
      "\n",
      "1: Fight it (-2 points if you lose, +4 points if you win)\n",
      "2: Run away (-1 point)\n",
      "\n"
     ]
    },
    {
     "name": "stdin",
     "output_type": "stream",
     "text": [
      "Choose\n",
      " 2\n"
     ]
    },
    {
     "name": "stdout",
     "output_type": "stream",
     "text": [
      "You ran away!\n",
      "\n",
      "Grace gains -1 points. Current points are -1.\n",
      "\n",
      "------------------------\n"
     ]
    },
    {
     "name": "stdin",
     "output_type": "stream",
     "text": [
      "Jake you have -3 points \n",
      "Press enter to roll.\n",
      " \n"
     ]
    },
    {
     "name": "stdout",
     "output_type": "stream",
     "text": [
      "Jake rolled a 1!\n",
      "\n",
      "Jake moves to 9.\n",
      "\n",
      "Jake: You find a treasure chest!\n",
      "\n",
      "\n",
      "1 - Open the treasure chest (Requires a roll).\n",
      "2 - Ignore it.\n",
      "\n"
     ]
    },
    {
     "name": "stdin",
     "output_type": "stream",
     "text": [
      "Choose\n",
      " 2\n"
     ]
    },
    {
     "name": "stdout",
     "output_type": "stream",
     "text": [
      "You ignore the chest.\n",
      "\n",
      "------------------------\n"
     ]
    },
    {
     "name": "stdin",
     "output_type": "stream",
     "text": [
      "Grace you have -1 points \n",
      "Press enter to roll.\n",
      " \n"
     ]
    },
    {
     "name": "stdout",
     "output_type": "stream",
     "text": [
      "Grace rolled a 3!\n",
      "\n",
      "Grace moves to 12.\n",
      "\n",
      "Grace: A goblin blocks your path!\n",
      "\n",
      "\n",
      "1: Fight it (-2 points if you lose, +4 points if you win)\n",
      "2: Run away (-1 point)\n",
      "\n"
     ]
    },
    {
     "name": "stdin",
     "output_type": "stream",
     "text": [
      "Choose\n",
      " 2\n"
     ]
    },
    {
     "name": "stdout",
     "output_type": "stream",
     "text": [
      "You ran away!\n",
      "\n",
      "Grace gains -1 points. Current points are -2.\n",
      "\n",
      "------------------------\n"
     ]
    },
    {
     "name": "stdin",
     "output_type": "stream",
     "text": [
      "Jake you have -3 points \n",
      "Press enter to roll.\n",
      " \n"
     ]
    },
    {
     "name": "stdout",
     "output_type": "stream",
     "text": [
      "Jake rolled a 3!\n",
      "\n",
      "Jake moves to 12.\n",
      "\n",
      "Jake: You meet a wandering merchant.\n",
      "\n",
      "\n",
      "1: Trade 3 points for a magic item (+8 points)\n",
      "2: Ignore him (no effect)\n",
      "3: Rob him! (-8 points if you lose, +12 points if you win)\n",
      "\n"
     ]
    },
    {
     "name": "stdin",
     "output_type": "stream",
     "text": [
      "Choose\n",
      " 2\n"
     ]
    },
    {
     "name": "stdout",
     "output_type": "stream",
     "text": [
      "You ignored the merchant.\n",
      "\n",
      "------------------------\n"
     ]
    },
    {
     "name": "stdin",
     "output_type": "stream",
     "text": [
      "Grace you have -2 points \n",
      "Press enter to roll.\n",
      " \n"
     ]
    },
    {
     "name": "stdout",
     "output_type": "stream",
     "text": [
      "Grace rolled a 6!\n",
      "\n",
      "Grace moves to 18.\n",
      "\n",
      "Grace: A goblin blocks your path!\n",
      "\n",
      "\n",
      "1: Fight it (-2 points if you lose, +4 points if you win)\n",
      "2: Run away (-1 point)\n",
      "\n"
     ]
    },
    {
     "name": "stdin",
     "output_type": "stream",
     "text": [
      "Choose\n",
      " 2\n"
     ]
    },
    {
     "name": "stdout",
     "output_type": "stream",
     "text": [
      "You ran away!\n",
      "\n",
      "Grace gains -1 points. Current points are -3.\n",
      "\n",
      "------------------------\n"
     ]
    },
    {
     "name": "stdin",
     "output_type": "stream",
     "text": [
      "Jake you have -3 points \n",
      "Press enter to roll.\n",
      " \n"
     ]
    },
    {
     "name": "stdout",
     "output_type": "stream",
     "text": [
      "Jake rolled a 5!\n",
      "\n",
      "Jake moves to 17.\n",
      "\n",
      "Jake: You find a treasure chest!\n",
      "\n",
      "\n",
      "1 - Open the treasure chest (Requires a roll).\n",
      "2 - Ignore it.\n",
      "\n"
     ]
    },
    {
     "name": "stdin",
     "output_type": "stream",
     "text": [
      "Choose\n",
      " 2\n"
     ]
    },
    {
     "name": "stdout",
     "output_type": "stream",
     "text": [
      "You ignore the chest.\n",
      "\n",
      "------------------------\n"
     ]
    },
    {
     "name": "stdin",
     "output_type": "stream",
     "text": [
      "Grace you have -3 points \n",
      "Press enter to roll.\n",
      " \n"
     ]
    },
    {
     "name": "stdout",
     "output_type": "stream",
     "text": [
      "Grace rolled a 4!\n",
      "\n",
      "Grace moves to 22.\n",
      "\n",
      "Grace: You meet a wandering merchant.\n",
      "\n",
      "\n",
      "1: Trade 3 points for a magic item (+8 points)\n",
      "2: Ignore him (no effect)\n",
      "3: Rob him! (-8 points if you lose, +12 points if you win)\n",
      "\n"
     ]
    },
    {
     "name": "stdin",
     "output_type": "stream",
     "text": [
      "Choose\n",
      " 2\n"
     ]
    },
    {
     "name": "stdout",
     "output_type": "stream",
     "text": [
      "You ignored the merchant.\n",
      "\n",
      "------------------------\n"
     ]
    },
    {
     "name": "stdin",
     "output_type": "stream",
     "text": [
      "Jake you have -3 points \n",
      "Press enter to roll.\n",
      " \n"
     ]
    },
    {
     "name": "stdout",
     "output_type": "stream",
     "text": [
      "Jake rolled a 6!\n",
      "\n",
      "Jake moves to 23.\n",
      "\n",
      "Jake: A goblin blocks your path!\n",
      "\n",
      "\n",
      "1: Fight it (-2 points if you lose, +4 points if you win)\n",
      "2: Run away (-1 point)\n",
      "\n"
     ]
    },
    {
     "name": "stdin",
     "output_type": "stream",
     "text": [
      "Choose\n",
      " 2\n"
     ]
    },
    {
     "name": "stdout",
     "output_type": "stream",
     "text": [
      "You ran away!\n",
      "\n",
      "Jake gains -1 points. Current points are -4.\n",
      "\n",
      "------------------------\n"
     ]
    },
    {
     "name": "stdin",
     "output_type": "stream",
     "text": [
      "Grace you have -3 points \n",
      "Press enter to roll.\n",
      " \n"
     ]
    },
    {
     "name": "stdout",
     "output_type": "stream",
     "text": [
      "Grace rolled a 3!\n",
      "\n",
      "Grace moves to 25.\n",
      "\n",
      "Grace: You stepped onto a trap!\n",
      "\n",
      "\n",
      "1: Try to disarm the trap (risky!)\n",
      "2: Walk around it (-1 point)\n",
      "\n"
     ]
    },
    {
     "name": "stdin",
     "output_type": "stream",
     "text": [
      "Choose\n",
      " 1\n"
     ]
    },
    {
     "name": "stdout",
     "output_type": "stream",
     "text": [
      "The trap catches you! You lose 3 points!\n",
      "\n",
      "Grace gains -3 points. Current points are -6.\n",
      "\n",
      "------------------------\n"
     ]
    },
    {
     "name": "stdin",
     "output_type": "stream",
     "text": [
      "Jake you have -4 points \n",
      "Press enter to roll.\n",
      " \n"
     ]
    },
    {
     "name": "stdout",
     "output_type": "stream",
     "text": [
      "Jake rolled a 5!\n",
      "\n",
      "Jake moves to 28.\n",
      "\n",
      "Jake: You meet a wandering merchant.\n",
      "\n",
      "\n",
      "1: Trade 3 points for a magic item (+8 points)\n",
      "2: Ignore him (no effect)\n",
      "3: Rob him! (-8 points if you lose, +12 points if you win)\n",
      "\n"
     ]
    },
    {
     "name": "stdin",
     "output_type": "stream",
     "text": [
      "Choose\n",
      " 2\n"
     ]
    },
    {
     "name": "stdout",
     "output_type": "stream",
     "text": [
      "You ignored the merchant.\n",
      "\n",
      "\n",
      "The game is over! Here are the final results:\n",
      "\n",
      "Jake: -4 points\n",
      "\n",
      "Grace: -6 points\n",
      "\n",
      "\n",
      "Congratulations, Jake! You are the winner with -4 points!\n",
      "\n"
     ]
    }
   ],
   "source": [
    "import random\n",
    "\n",
    "class Players:\n",
    "    #create player class and attributes\n",
    "    def __init__(self, name):\n",
    "        self.name = name\n",
    "        self.position = 0\n",
    "        self.points = 0\n",
    "\n",
    "    # track players position across the board\n",
    "    def move_player(self, moves):\n",
    "        self.position += moves\n",
    "        print(f\"{self.name} moves to {self.position}.\\n\")\n",
    "        \n",
    "    # method to add points to players attribute\n",
    "    def add_points(self, points):\n",
    "        self.points += points\n",
    "        print(f\"{self.name} gains {points} points. Current points are {self.points}.\\n\")\n",
    "\n",
    "    def get_points(self):\n",
    "        return self.points\n",
    "\n",
    "\n",
    "class Board:\n",
    "    # creat the board, where random event will happen on each space that can add or subtract from player points\n",
    "    def __init__(self, length):\n",
    "        self.length = length\n",
    "        # create a list of tuples, with event descriptors and methods\n",
    "        # create a method for each event\n",
    "        self.events = [\n",
    "            (\"You find a treasure chest!\\n\", self.treasure_chest),\n",
    "            (\"A goblin blocks your path!\\n\", self.goblin_encounter),\n",
    "            (\"You meet a wandering merchant.\\n\", self.merchant_trade),\n",
    "            (\"You stepped onto a trap!\\n\", self.hidden_trap)\n",
    "        ]\n",
    "\n",
    "    def trigger(self, player):\n",
    "        # from the tuples, use random to assign descriptor and logic\n",
    "        event_description, event_logic = random.choice(self.events)\n",
    "        print(f'{player.name}: {event_description}\\n')\n",
    "        # call the event with the player as an argument\n",
    "        event_logic(player)\n",
    "\n",
    "    def encounter_mimic(self, player):\n",
    "        # players can encounter a mimic while opening a chest\n",
    "        print(f'You encounter a mimic!')\n",
    "        print(f'1: Fight it (-4 points if you lose, +8 points if you win)')\n",
    "        print(f'2: Run away (-1 point)\\n')\n",
    "        try:\n",
    "            choice = int(input(f'Choose\\n'))\n",
    "        except ValueError:\n",
    "            print(f'Choose a valid option.\\n')\n",
    "            encounter_mimic(player)\n",
    "        if choice == 1:\n",
    "            roll = random.randint(1, 6)\n",
    "            if roll >= 4:  # Win condition must be a 4 or above\n",
    "                print(\"You defeated the mimic!\\n\")\n",
    "                player.add_points(8)\n",
    "            else:\n",
    "                print(\"The mimic overpowered you!\\n\")\n",
    "                player.add_points(-4)\n",
    "        elif choice == 2:\n",
    "            print(\"You ran away!\\n\")\n",
    "            player.add_points(-1)\n",
    "\n",
    "    def treasure_chest(self, player):\n",
    "        # method for treasure chest event\n",
    "        print(f'1 - Open the treasure chest (Requires a roll).')\n",
    "        print(f'2 - Ignore it.\\n')\n",
    "        try:\n",
    "            choice = int(input(f'Choose\\n'))\n",
    "        except ValueError:\n",
    "            print(f'Choose a valid option.\\n')\n",
    "            treasure_chest(player)\n",
    "        if choice == 2:\n",
    "            print(f'You ignore the chest.\\n')\n",
    "        # 3 results can happen: open and gain points, fight a mimic, or fail to open\n",
    "        elif choice == 1:\n",
    "            roll = random.randint(1, 6)\n",
    "            if roll == 1:\n",
    "                self.encounter_mimic(player)\n",
    "            elif roll >= 3:\n",
    "                player.add_points(5)\n",
    "                print(f'You found treasure! {player.name} has {player.points}\\n')\n",
    "            elif roll <3:\n",
    "                print(f'You failed to open the chest!\\n')\n",
    "\n",
    "    def goblin_encounter(self, player):\n",
    "        print(f\"1: Fight it (-2 points if you lose, +4 points if you win)\")\n",
    "        print(f\"2: Run away (-1 point)\\n\")\n",
    "        try:\n",
    "            choice = int(input(f'Choose\\n'))\n",
    "        except ValueError:\n",
    "            print(f'Choose a valid option.\\n')\n",
    "            encounter_mimic(player)\n",
    "        if choice == 1:\n",
    "            roll = random.randint(1, 6)\n",
    "            if roll >= 4:  # Win condition\n",
    "                print(\"You defeated the goblin!\\n\")\n",
    "                player.add_points(4)\n",
    "            else:\n",
    "                print(\"The goblin overpowered you!\\n\")\n",
    "                player.add_points(-2)\n",
    "        elif choice == 2:\n",
    "            print(\"You ran away!\\n\")\n",
    "            player.add_points(-1)\n",
    "\n",
    "    def merchant_trade(self, player):\n",
    "        print(\"1: Trade 3 points for a magic item (+8 points)\")\n",
    "        print(\"2: Ignore him (no effect)\")\n",
    "        print(\"3: Rob him! (-8 points if you lose, +12 points if you win)\\n\")\n",
    "        try:\n",
    "            choice = int(input(f'Choose\\n'))\n",
    "        except ValueError:\n",
    "            print(f'Choose a valid option.\\n')\n",
    "            encounter_mimic(player)\n",
    "        if choice == 1:\n",
    "            if player.points >= 3:\n",
    "                print(\"The merchant gives you a powerful magic item!\\n\")\n",
    "                player.add_points(8 - 3)  # Net gain of 5 points\n",
    "            else:\n",
    "                print(\"You don't have enough points to trade.\\n\")\n",
    "        elif choice == 2:\n",
    "            print(\"You ignored the merchant.\\n\")\n",
    "        elif choice == 3:\n",
    "            roll = random.randint(1, 6)\n",
    "            if roll >= 5:  # Win condition\n",
    "                print(\"You robbed the merchant!\\n\")\n",
    "                player.add_points(12)\n",
    "            else:\n",
    "                print(\"The merchant overpowered you!\\n\")\n",
    "                player.add_points(-8)\n",
    "\n",
    "    def hidden_trap(self, player):\n",
    "        print(\"1: Try to disarm the trap (risky!)\")\n",
    "        print(\"2: Walk around it (-1 point)\\n\")\n",
    "        try:\n",
    "            choice = int(input(f'Choose\\n'))\n",
    "        except ValueError:\n",
    "            print(f'Choose a valid option.\\n')\n",
    "            hidden_trap(player)\n",
    "        if choice == 1:\n",
    "            roll = random.randint(1, 2)\n",
    "            if roll == 1:\n",
    "                print(\"You successfully disarmed the trap!\\n\")\n",
    "            else:\n",
    "                print(\"The trap catches you! You lose 3 points!\\n\")\n",
    "                player.add_points(-3)\n",
    "        elif choice == 2:\n",
    "            print(\"You carefully avoid the trap.\\n\")\n",
    "            player.add_points(-1)\n",
    "\n",
    "class Game:\n",
    "    def __init__(self):\n",
    "        self.players = []\n",
    "        self.board = Board(24)\n",
    "        self.game_end = False\n",
    "\n",
    "    \n",
    "    def setup(self):\n",
    "        print(f'This is a dungeon game!\\n')\n",
    "    \n",
    "        # Use a while loop to repeatedly ask for input until it's valid\n",
    "        while True:\n",
    "            try:\n",
    "                num_players = int(input(f'Enter how many will be playing.\\n'))\n",
    "                if num_players >= 2:  # Ensure at least 2 players\n",
    "                    break  # Exit the loop if the input is valid\n",
    "                else:\n",
    "                    print(f\"Please enter a valid number of players (minimum 2): \\n\")\n",
    "            except ValueError:\n",
    "                print(f\"Invalid input! Please enter a valid number.\\n\")\n",
    "        \n",
    "        # Create player objects and add them to the self.players list\n",
    "        for i in range(num_players):\n",
    "            name = input(f'Enter your name player {i + 1}.\\n')\n",
    "            self.players.append(Players(name))\n",
    "            print()\n",
    "                    \n",
    "        print(f\"The game will begin! \\nThe board has {self.board.length} spaces.\\nReach the end and gather the most points to win!\\n\")\n",
    "\n",
    "\n",
    "    def player_turn(self, player):\n",
    "        print('-' * 24)\n",
    "        if player.position >= self.board.length:\n",
    "            player.position = self.board.length\n",
    "            print(f\"{player.name} has reached the end!\\n\")\n",
    "        else:\n",
    "            input(f'{player.name} you have {player.get_points()} points \\nPress enter to roll.\\n')\n",
    "            roll = random.randint(1, 6)\n",
    "            print(f\"{player.name} rolled a {roll}!\\n\")\n",
    "            player.move_player(roll)\n",
    "        \n",
    "            # self.board is the instance of the board which contains the events\n",
    "            self.board.trigger(player)\n",
    "\n",
    "    def check_game(self):\n",
    "        for player in self.players:\n",
    "            if player.position < self.board.length:\n",
    "                return False\n",
    "        return True\n",
    "\n",
    "    def winner(self):\n",
    "        print(\"\\nThe game is over! Here are the final results:\\n\")\n",
    "        max_points = -9999\n",
    "        for player in self.players:\n",
    "            print(f\"{player.name}: {player.points} points\\n\")\n",
    "            if player.points > max_points:\n",
    "                winner = player.name\n",
    "                max_points = player.points\n",
    "        print(f\"\\nCongratulations, {winner}! You are the winner with {max_points} points!\\n\")\n",
    "\n",
    "    def play_game(self):\n",
    "        self.setup()\n",
    "        while not self.check_game():\n",
    "            for player in self.players:\n",
    "                if self.check_game():\n",
    "                    break\n",
    "                self.player_turn(player)\n",
    "        self.winner()\n",
    "\n",
    "\n",
    "\n",
    "game = Game()\n",
    "game.play_game()"
   ]
  },
  {
   "cell_type": "code",
   "execution_count": null,
   "id": "ad3e7175-5a5d-4e23-bc2f-9a13a5423776",
   "metadata": {},
   "outputs": [],
   "source": []
  }
 ],
 "metadata": {
  "kernelspec": {
   "display_name": "Python 3 (ipykernel)",
   "language": "python",
   "name": "python3"
  },
  "language_info": {
   "codemirror_mode": {
    "name": "ipython",
    "version": 3
   },
   "file_extension": ".py",
   "mimetype": "text/x-python",
   "name": "python",
   "nbconvert_exporter": "python",
   "pygments_lexer": "ipython3",
   "version": "3.12.4"
  }
 },
 "nbformat": 4,
 "nbformat_minor": 5
}
