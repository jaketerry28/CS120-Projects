{
 "cells": [
  {
   "cell_type": "code",
   "execution_count": 7,
   "id": "57a3f600-1dbf-4b6e-914b-664e7b5ec0f9",
   "metadata": {},
   "outputs": [
    {
     "name": "stdin",
     "output_type": "stream",
     "text": [
      "P1 Enter your name.\n",
      " \n",
      "\n",
      "P2 Enter your name.\n",
      " \n"
     ]
    },
    {
     "name": "stdout",
     "output_type": "stream",
     "text": [
      "\n",
      "Roll to see who goes first.\n",
      "\n"
     ]
    },
    {
     "name": "stdin",
     "output_type": "stream",
     "text": [
      "P1 Press enter to roll\n",
      " \n"
     ]
    },
    {
     "name": "stdout",
     "output_type": "stream",
     "text": [
      " rolled a 3\n",
      "\n"
     ]
    },
    {
     "name": "stdin",
     "output_type": "stream",
     "text": [
      "P2 Press enter to roll\n",
      " \n"
     ]
    },
    {
     "name": "stdout",
     "output_type": "stream",
     "text": [
      " rolled a 3\n",
      "\n",
      "\n",
      "Tie, roll again\n",
      "\n",
      "\n",
      "Roll to see who goes first.\n",
      "\n"
     ]
    },
    {
     "name": "stdin",
     "output_type": "stream",
     "text": [
      "P1 Press enter to roll\n",
      " \n"
     ]
    },
    {
     "name": "stdout",
     "output_type": "stream",
     "text": [
      " rolled a 6\n",
      "\n"
     ]
    },
    {
     "name": "stdin",
     "output_type": "stream",
     "text": [
      "P2 Press enter to roll\n",
      " \n"
     ]
    },
    {
     "name": "stdout",
     "output_type": "stream",
     "text": [
      " rolled a 5\n",
      "\n",
      " goes first.\n",
      "\n"
     ]
    },
    {
     "name": "stdin",
     "output_type": "stream",
     "text": [
      "It is 's turn            \n",
      " is at space 0 \n"
     ]
    },
    {
     "name": "stdout",
     "output_type": "stream",
     "text": [
      " rolled a 2!\n",
      " is now at space 2\n",
      "\n"
     ]
    },
    {
     "name": "stdin",
     "output_type": "stream",
     "text": [
      "It is 's turn            \n",
      " is at space 0 \n"
     ]
    },
    {
     "name": "stdout",
     "output_type": "stream",
     "text": [
      " rolled a 4!\n",
      " is now at space 4\n",
      "\n"
     ]
    },
    {
     "name": "stdin",
     "output_type": "stream",
     "text": [
      "It is 's turn            \n",
      " is at space 2 \n"
     ]
    },
    {
     "name": "stdout",
     "output_type": "stream",
     "text": [
      " rolled a 3!\n",
      " is now at space 5\n",
      "\n"
     ]
    },
    {
     "name": "stdin",
     "output_type": "stream",
     "text": [
      "It is 's turn            \n",
      " is at space 4 \n"
     ]
    },
    {
     "name": "stdout",
     "output_type": "stream",
     "text": [
      " rolled a 2!\n",
      " is now at space 6\n",
      "\n"
     ]
    },
    {
     "name": "stdin",
     "output_type": "stream",
     "text": [
      "It is 's turn            \n",
      " is at space 5 \n"
     ]
    },
    {
     "name": "stdout",
     "output_type": "stream",
     "text": [
      " rolled a 1!\n",
      " is now at space 6\n",
      "\n"
     ]
    },
    {
     "name": "stdin",
     "output_type": "stream",
     "text": [
      "It is 's turn            \n",
      " is at space 6 \n"
     ]
    },
    {
     "name": "stdout",
     "output_type": "stream",
     "text": [
      " rolled a 2!\n",
      " is now at space 8\n",
      "\n"
     ]
    },
    {
     "name": "stdin",
     "output_type": "stream",
     "text": [
      "It is 's turn            \n",
      " is at space 6 \n"
     ]
    },
    {
     "name": "stdout",
     "output_type": "stream",
     "text": [
      " rolled a 5!\n",
      " is now at space 11\n",
      "\n"
     ]
    },
    {
     "name": "stdin",
     "output_type": "stream",
     "text": [
      "It is 's turn            \n",
      " is at space 8 \n"
     ]
    },
    {
     "name": "stdout",
     "output_type": "stream",
     "text": [
      " rolled a 6!\n",
      " is now at space 14\n",
      "\n"
     ]
    },
    {
     "name": "stdin",
     "output_type": "stream",
     "text": [
      "It is 's turn            \n",
      " is at space 11 \n"
     ]
    },
    {
     "name": "stdout",
     "output_type": "stream",
     "text": [
      " rolled a 4!\n",
      " is now at space 15\n",
      "\n"
     ]
    },
    {
     "name": "stdin",
     "output_type": "stream",
     "text": [
      "It is 's turn            \n",
      " is at space 14 \n"
     ]
    },
    {
     "name": "stdout",
     "output_type": "stream",
     "text": [
      " rolled a 5!\n",
      " is now at space 19\n",
      "\n"
     ]
    },
    {
     "name": "stdin",
     "output_type": "stream",
     "text": [
      "It is 's turn            \n",
      " is at space 15 \n"
     ]
    },
    {
     "name": "stdout",
     "output_type": "stream",
     "text": [
      " rolled a 5!\n",
      "╬═╬\n",
      "╬═╬\n",
      "╬═╬\n",
      "╬═╬\n",
      "╬═╬\n",
      "╬═╬\n",
      "╬═╬\n",
      "╬═╬\n",
      "╬═╬\n",
      "╬═╬\n",
      "╬═╬\n",
      "╬═╬\n",
      "╬═╬\n",
      "Climbing from 20 to 41\n",
      " is now at space 41\n",
      "\n"
     ]
    },
    {
     "name": "stdin",
     "output_type": "stream",
     "text": [
      "It is 's turn            \n",
      " is at space 19 \n"
     ]
    },
    {
     "name": "stdout",
     "output_type": "stream",
     "text": [
      " rolled a 6!\n",
      " is now at space 25\n",
      "\n"
     ]
    },
    {
     "name": "stdin",
     "output_type": "stream",
     "text": [
      "It is 's turn            \n",
      " is at space 41 \n"
     ]
    },
    {
     "name": "stdout",
     "output_type": "stream",
     "text": [
      " rolled a 1!\n",
      " is now at space 42\n",
      "\n"
     ]
    },
    {
     "name": "stdin",
     "output_type": "stream",
     "text": [
      "It is 's turn            \n",
      " is at space 25 \n"
     ]
    },
    {
     "name": "stdout",
     "output_type": "stream",
     "text": [
      " rolled a 5!\n",
      " is now at space 30\n",
      "\n"
     ]
    },
    {
     "name": "stdin",
     "output_type": "stream",
     "text": [
      "It is 's turn            \n",
      " is at space 42 \n"
     ]
    },
    {
     "name": "stdout",
     "output_type": "stream",
     "text": [
      " rolled a 2!\n",
      " is now at space 44\n",
      "\n"
     ]
    },
    {
     "name": "stdin",
     "output_type": "stream",
     "text": [
      "It is 's turn            \n",
      " is at space 30 \n"
     ]
    },
    {
     "name": "stdout",
     "output_type": "stream",
     "text": [
      " rolled a 3!\n",
      " is now at space 33\n",
      "\n"
     ]
    },
    {
     "name": "stdin",
     "output_type": "stream",
     "text": [
      "It is 's turn            \n",
      " is at space 44 \n"
     ]
    },
    {
     "name": "stdout",
     "output_type": "stream",
     "text": [
      " rolled a 4!\n",
      " is now at space 48\n",
      "\n"
     ]
    },
    {
     "name": "stdin",
     "output_type": "stream",
     "text": [
      "It is 's turn            \n",
      " is at space 33 \n"
     ]
    },
    {
     "name": "stdout",
     "output_type": "stream",
     "text": [
      " rolled a 2!\n",
      "           /^\\/^\\\n",
      "         _|__|  O|\n",
      "\\/     /~     \\_/ \\\n",
      " \\____|__________/  \\\n",
      "        \\_______      \\\n",
      "                `\\     \\                 \\\n",
      "                  |     |                  \\\n",
      "                 /      /                    \\\n",
      "                /     /                       \\\\\n",
      "              /      /                         \\ \\\n",
      "             /     /                            \\  \\\n",
      "           /     /             _----_            \\   \\\n",
      "          /     /           _-~      ~-_         |   |\n",
      "         (      (        _-~    _--_    ~-_     _/   |\n",
      "          \\      ~-____-~    _-~    ~-_    ~-_-~    /\n",
      "            ~-_           _-~          ~-_       _-~\n",
      "               ~--______-~                ~-___-~\n",
      "You got eaten by a snake! 35 to 5\n",
      " is now at space 5\n",
      "\n"
     ]
    },
    {
     "name": "stdin",
     "output_type": "stream",
     "text": [
      "It is 's turn            \n",
      " is at space 48 \n"
     ]
    },
    {
     "name": "stdout",
     "output_type": "stream",
     "text": [
      " rolled a 3!\n",
      " is now at space 51\n",
      "\n"
     ]
    },
    {
     "name": "stdin",
     "output_type": "stream",
     "text": [
      "It is 's turn            \n",
      " is at space 5 \n"
     ]
    },
    {
     "name": "stdout",
     "output_type": "stream",
     "text": [
      " rolled a 6!\n",
      " is now at space 11\n",
      "\n"
     ]
    },
    {
     "name": "stdin",
     "output_type": "stream",
     "text": [
      "It is 's turn            \n",
      " is at space 51 \n"
     ]
    },
    {
     "name": "stdout",
     "output_type": "stream",
     "text": [
      " rolled a 4!\n",
      " is now at space 55\n",
      "\n"
     ]
    },
    {
     "name": "stdin",
     "output_type": "stream",
     "text": [
      "It is 's turn            \n",
      " is at space 11 \n"
     ]
    },
    {
     "name": "stdout",
     "output_type": "stream",
     "text": [
      " rolled a 2!\n",
      " is now at space 13\n",
      "\n"
     ]
    },
    {
     "name": "stdin",
     "output_type": "stream",
     "text": [
      "It is 's turn            \n",
      " is at space 55 \n"
     ]
    },
    {
     "name": "stdout",
     "output_type": "stream",
     "text": [
      " rolled a 5!\n",
      " is now at space 60\n",
      "\n"
     ]
    },
    {
     "name": "stdin",
     "output_type": "stream",
     "text": [
      "It is 's turn            \n",
      " is at space 13 \n"
     ]
    },
    {
     "name": "stdout",
     "output_type": "stream",
     "text": [
      " rolled a 3!\n",
      " is now at space 16\n",
      "\n"
     ]
    },
    {
     "name": "stdin",
     "output_type": "stream",
     "text": [
      "It is 's turn            \n",
      " is at space 60 \n"
     ]
    },
    {
     "name": "stdout",
     "output_type": "stream",
     "text": [
      " rolled a 4!\n",
      " is now at space 64\n",
      "\n"
     ]
    },
    {
     "name": "stdin",
     "output_type": "stream",
     "text": [
      "It is 's turn            \n",
      " is at space 16 \n"
     ]
    },
    {
     "name": "stdout",
     "output_type": "stream",
     "text": [
      " rolled a 3!\n",
      " is now at space 19\n",
      "\n"
     ]
    },
    {
     "name": "stdin",
     "output_type": "stream",
     "text": [
      "It is 's turn            \n",
      " is at space 64 \n"
     ]
    },
    {
     "name": "stdout",
     "output_type": "stream",
     "text": [
      " rolled a 2!\n",
      " is now at space 66\n",
      "\n"
     ]
    },
    {
     "name": "stdin",
     "output_type": "stream",
     "text": [
      "It is 's turn            \n",
      " is at space 19 \n"
     ]
    },
    {
     "name": "stdout",
     "output_type": "stream",
     "text": [
      " rolled a 3!\n",
      " is now at space 22\n",
      "\n"
     ]
    },
    {
     "name": "stdin",
     "output_type": "stream",
     "text": [
      "It is 's turn            \n",
      " is at space 66 \n"
     ]
    },
    {
     "name": "stdout",
     "output_type": "stream",
     "text": [
      " rolled a 1!\n",
      " is now at space 67\n",
      "\n"
     ]
    },
    {
     "name": "stdin",
     "output_type": "stream",
     "text": [
      "It is 's turn            \n",
      " is at space 22 \n"
     ]
    },
    {
     "name": "stdout",
     "output_type": "stream",
     "text": [
      " rolled a 6!\n",
      " is now at space 28\n",
      "\n"
     ]
    },
    {
     "name": "stdin",
     "output_type": "stream",
     "text": [
      "It is 's turn            \n",
      " is at space 67 \n"
     ]
    },
    {
     "name": "stdout",
     "output_type": "stream",
     "text": [
      " rolled a 3!\n",
      "╬═╬\n",
      "╬═╬\n",
      "╬═╬\n",
      "╬═╬\n",
      "╬═╬\n",
      "╬═╬\n",
      "╬═╬\n",
      "╬═╬\n",
      "╬═╬\n",
      "╬═╬\n",
      "╬═╬\n",
      "╬═╬\n",
      "╬═╬\n",
      "Climbing from 70 to 91\n",
      " is now at space 91\n",
      "\n"
     ]
    },
    {
     "name": "stdin",
     "output_type": "stream",
     "text": [
      "It is 's turn            \n",
      " is at space 28 \n"
     ]
    },
    {
     "name": "stdout",
     "output_type": "stream",
     "text": [
      " rolled a 1!\n",
      " is now at space 29\n",
      "\n"
     ]
    },
    {
     "name": "stdin",
     "output_type": "stream",
     "text": [
      "It is 's turn            \n",
      " is at space 91 \n"
     ]
    },
    {
     "name": "stdout",
     "output_type": "stream",
     "text": [
      " rolled a 1!\n",
      " is now at space 92\n",
      "\n"
     ]
    },
    {
     "name": "stdin",
     "output_type": "stream",
     "text": [
      "It is 's turn            \n",
      " is at space 29 \n"
     ]
    },
    {
     "name": "stdout",
     "output_type": "stream",
     "text": [
      " rolled a 5!\n",
      " is now at space 34\n",
      "\n"
     ]
    },
    {
     "name": "stdin",
     "output_type": "stream",
     "text": [
      "It is 's turn            \n",
      " is at space 92 \n"
     ]
    },
    {
     "name": "stdout",
     "output_type": "stream",
     "text": [
      " rolled a 2!\n",
      "           /^\\/^\\\n",
      "         _|__|  O|\n",
      "\\/     /~     \\_/ \\\n",
      " \\____|__________/  \\\n",
      "        \\_______      \\\n",
      "                `\\     \\                 \\\n",
      "                  |     |                  \\\n",
      "                 /      /                    \\\n",
      "                /     /                       \\\\\n",
      "              /      /                         \\ \\\n",
      "             /     /                            \\  \\\n",
      "           /     /             _----_            \\   \\\n",
      "          /     /           _-~      ~-_         |   |\n",
      "         (      (        _-~    _--_    ~-_     _/   |\n",
      "          \\      ~-____-~    _-~    ~-_    ~-_-~    /\n",
      "            ~-_           _-~          ~-_       _-~\n",
      "               ~--______-~                ~-___-~\n",
      "You got eaten by a snake! 94 to 55\n",
      " is now at space 55\n",
      "\n"
     ]
    },
    {
     "name": "stdin",
     "output_type": "stream",
     "text": [
      "It is 's turn            \n",
      " is at space 34 \n"
     ]
    },
    {
     "name": "stdout",
     "output_type": "stream",
     "text": [
      " rolled a 4!\n",
      " is now at space 38\n",
      "\n"
     ]
    },
    {
     "name": "stdin",
     "output_type": "stream",
     "text": [
      "It is 's turn            \n",
      " is at space 55 \n"
     ]
    },
    {
     "name": "stdout",
     "output_type": "stream",
     "text": [
      " rolled a 4!\n",
      " is now at space 59\n",
      "\n"
     ]
    },
    {
     "name": "stdin",
     "output_type": "stream",
     "text": [
      "It is 's turn            \n",
      " is at space 38 \n"
     ]
    },
    {
     "name": "stdout",
     "output_type": "stream",
     "text": [
      " rolled a 5!\n",
      " is now at space 43\n",
      "\n"
     ]
    },
    {
     "name": "stdin",
     "output_type": "stream",
     "text": [
      "It is 's turn            \n",
      " is at space 59 \n"
     ]
    },
    {
     "name": "stdout",
     "output_type": "stream",
     "text": [
      " rolled a 3!\n",
      " is now at space 62\n",
      "\n"
     ]
    },
    {
     "name": "stdin",
     "output_type": "stream",
     "text": [
      "It is 's turn            \n",
      " is at space 43 \n"
     ]
    },
    {
     "name": "stdout",
     "output_type": "stream",
     "text": [
      " rolled a 6!\n",
      "╬═╬\n",
      "╬═╬\n",
      "╬═╬\n",
      "╬═╬\n",
      "╬═╬\n",
      "╬═╬\n",
      "╬═╬\n",
      "╬═╬\n",
      "╬═╬\n",
      "╬═╬\n",
      "╬═╬\n",
      "╬═╬\n",
      "╬═╬\n",
      "Climbing from 49 to 66\n",
      " is now at space 66\n",
      "\n"
     ]
    },
    {
     "name": "stdin",
     "output_type": "stream",
     "text": [
      "It is 's turn            \n",
      " is at space 62 \n"
     ]
    },
    {
     "name": "stdout",
     "output_type": "stream",
     "text": [
      " rolled a 1!\n",
      "           /^\\/^\\\n",
      "         _|__|  O|\n",
      "\\/     /~     \\_/ \\\n",
      " \\____|__________/  \\\n",
      "        \\_______      \\\n",
      "                `\\     \\                 \\\n",
      "                  |     |                  \\\n",
      "                 /      /                    \\\n",
      "                /     /                       \\\\\n",
      "              /      /                         \\ \\\n",
      "             /     /                            \\  \\\n",
      "           /     /             _----_            \\   \\\n",
      "          /     /           _-~      ~-_         |   |\n",
      "         (      (        _-~    _--_    ~-_     _/   |\n",
      "          \\      ~-____-~    _-~    ~-_    ~-_-~    /\n",
      "            ~-_           _-~          ~-_       _-~\n",
      "               ~--______-~                ~-___-~\n",
      "You got eaten by a snake! 63 to 17\n",
      " is now at space 17\n",
      "\n"
     ]
    },
    {
     "name": "stdin",
     "output_type": "stream",
     "text": [
      "It is 's turn            \n",
      " is at space 66 \n"
     ]
    },
    {
     "name": "stdout",
     "output_type": "stream",
     "text": [
      " rolled a 5!\n",
      " is now at space 71\n",
      "\n"
     ]
    },
    {
     "name": "stdin",
     "output_type": "stream",
     "text": [
      "It is 's turn            \n",
      " is at space 17 \n"
     ]
    },
    {
     "name": "stdout",
     "output_type": "stream",
     "text": [
      " rolled a 1!\n",
      " is now at space 18\n",
      "\n"
     ]
    },
    {
     "name": "stdin",
     "output_type": "stream",
     "text": [
      "It is 's turn            \n",
      " is at space 71 \n"
     ]
    },
    {
     "name": "stdout",
     "output_type": "stream",
     "text": [
      " rolled a 5!\n",
      " is now at space 76\n",
      "\n"
     ]
    },
    {
     "name": "stdin",
     "output_type": "stream",
     "text": [
      "It is 's turn            \n",
      " is at space 18 \n"
     ]
    },
    {
     "name": "stdout",
     "output_type": "stream",
     "text": [
      " rolled a 6!\n",
      " is now at space 24\n",
      "\n"
     ]
    },
    {
     "name": "stdin",
     "output_type": "stream",
     "text": [
      "It is 's turn            \n",
      " is at space 76 \n"
     ]
    },
    {
     "name": "stdout",
     "output_type": "stream",
     "text": [
      " rolled a 6!\n",
      " is now at space 82\n",
      "\n"
     ]
    },
    {
     "name": "stdin",
     "output_type": "stream",
     "text": [
      "It is 's turn            \n",
      " is at space 24 \n"
     ]
    },
    {
     "name": "stdout",
     "output_type": "stream",
     "text": [
      " rolled a 5!\n",
      " is now at space 29\n",
      "\n"
     ]
    },
    {
     "name": "stdin",
     "output_type": "stream",
     "text": [
      "It is 's turn            \n",
      " is at space 82 \n"
     ]
    },
    {
     "name": "stdout",
     "output_type": "stream",
     "text": [
      " rolled a 2!\n",
      " is now at space 84\n",
      "\n"
     ]
    },
    {
     "name": "stdin",
     "output_type": "stream",
     "text": [
      "It is 's turn            \n",
      " is at space 29 \n"
     ]
    },
    {
     "name": "stdout",
     "output_type": "stream",
     "text": [
      " rolled a 1!\n",
      " is now at space 30\n",
      "\n"
     ]
    },
    {
     "name": "stdin",
     "output_type": "stream",
     "text": [
      "It is 's turn            \n",
      " is at space 84 \n"
     ]
    },
    {
     "name": "stdout",
     "output_type": "stream",
     "text": [
      " rolled a 1!\n",
      " is now at space 85\n",
      "\n"
     ]
    },
    {
     "name": "stdin",
     "output_type": "stream",
     "text": [
      "It is 's turn            \n",
      " is at space 30 \n"
     ]
    },
    {
     "name": "stdout",
     "output_type": "stream",
     "text": [
      " rolled a 2!\n",
      " is now at space 32\n",
      "\n"
     ]
    },
    {
     "name": "stdin",
     "output_type": "stream",
     "text": [
      "It is 's turn            \n",
      " is at space 85 \n"
     ]
    },
    {
     "name": "stdout",
     "output_type": "stream",
     "text": [
      " rolled a 6!\n",
      " is now at space 91\n",
      "\n"
     ]
    },
    {
     "name": "stdin",
     "output_type": "stream",
     "text": [
      "It is 's turn            \n",
      " is at space 32 \n"
     ]
    },
    {
     "name": "stdout",
     "output_type": "stream",
     "text": [
      " rolled a 1!\n",
      " is now at space 33\n",
      "\n"
     ]
    },
    {
     "name": "stdin",
     "output_type": "stream",
     "text": [
      "It is 's turn            \n",
      " is at space 91 \n"
     ]
    },
    {
     "name": "stdout",
     "output_type": "stream",
     "text": [
      " rolled a 5!\n",
      "           /^\\/^\\\n",
      "         _|__|  O|\n",
      "\\/     /~     \\_/ \\\n",
      " \\____|__________/  \\\n",
      "        \\_______      \\\n",
      "                `\\     \\                 \\\n",
      "                  |     |                  \\\n",
      "                 /      /                    \\\n",
      "                /     /                       \\\\\n",
      "              /      /                         \\ \\\n",
      "             /     /                            \\  \\\n",
      "           /     /             _----_            \\   \\\n",
      "          /     /           _-~      ~-_         |   |\n",
      "         (      (        _-~    _--_    ~-_     _/   |\n",
      "          \\      ~-____-~    _-~    ~-_    ~-_-~    /\n",
      "            ~-_           _-~          ~-_       _-~\n",
      "               ~--______-~                ~-___-~\n",
      "You got eaten by a snake! 96 to 77\n",
      " is now at space 77\n",
      "\n"
     ]
    },
    {
     "name": "stdin",
     "output_type": "stream",
     "text": [
      "It is 's turn            \n",
      " is at space 33 \n"
     ]
    },
    {
     "name": "stdout",
     "output_type": "stream",
     "text": [
      " rolled a 2!\n",
      "           /^\\/^\\\n",
      "         _|__|  O|\n",
      "\\/     /~     \\_/ \\\n",
      " \\____|__________/  \\\n",
      "        \\_______      \\\n",
      "                `\\     \\                 \\\n",
      "                  |     |                  \\\n",
      "                 /      /                    \\\n",
      "                /     /                       \\\\\n",
      "              /      /                         \\ \\\n",
      "             /     /                            \\  \\\n",
      "           /     /             _----_            \\   \\\n",
      "          /     /           _-~      ~-_         |   |\n",
      "         (      (        _-~    _--_    ~-_     _/   |\n",
      "          \\      ~-____-~    _-~    ~-_    ~-_-~    /\n",
      "            ~-_           _-~          ~-_       _-~\n",
      "               ~--______-~                ~-___-~\n",
      "You got eaten by a snake! 35 to 5\n",
      " is now at space 5\n",
      "\n"
     ]
    },
    {
     "name": "stdin",
     "output_type": "stream",
     "text": [
      "It is 's turn            \n",
      " is at space 77 \n"
     ]
    },
    {
     "name": "stdout",
     "output_type": "stream",
     "text": [
      " rolled a 5!\n",
      " is now at space 82\n",
      "\n"
     ]
    },
    {
     "name": "stdin",
     "output_type": "stream",
     "text": [
      "It is 's turn            \n",
      " is at space 5 \n"
     ]
    },
    {
     "name": "stdout",
     "output_type": "stream",
     "text": [
      " rolled a 2!\n",
      "╬═╬\n",
      "╬═╬\n",
      "╬═╬\n",
      "╬═╬\n",
      "╬═╬\n",
      "╬═╬\n",
      "╬═╬\n",
      "╬═╬\n",
      "╬═╬\n",
      "╬═╬\n",
      "╬═╬\n",
      "╬═╬\n",
      "╬═╬\n",
      "Climbing from 7 to 29\n",
      " is now at space 29\n",
      "\n"
     ]
    },
    {
     "name": "stdin",
     "output_type": "stream",
     "text": [
      "It is 's turn            \n",
      " is at space 82 \n"
     ]
    },
    {
     "name": "stdout",
     "output_type": "stream",
     "text": [
      " rolled a 2!\n",
      " is now at space 84\n",
      "\n"
     ]
    },
    {
     "name": "stdin",
     "output_type": "stream",
     "text": [
      "It is 's turn            \n",
      " is at space 29 \n"
     ]
    },
    {
     "name": "stdout",
     "output_type": "stream",
     "text": [
      " rolled a 2!\n",
      "           /^\\/^\\\n",
      "         _|__|  O|\n",
      "\\/     /~     \\_/ \\\n",
      " \\____|__________/  \\\n",
      "        \\_______      \\\n",
      "                `\\     \\                 \\\n",
      "                  |     |                  \\\n",
      "                 /      /                    \\\n",
      "                /     /                       \\\\\n",
      "              /      /                         \\ \\\n",
      "             /     /                            \\  \\\n",
      "           /     /             _----_            \\   \\\n",
      "          /     /           _-~      ~-_         |   |\n",
      "         (      (        _-~    _--_    ~-_     _/   |\n",
      "          \\      ~-____-~    _-~    ~-_    ~-_-~    /\n",
      "            ~-_           _-~          ~-_       _-~\n",
      "               ~--______-~                ~-___-~\n",
      "You got eaten by a snake! 31 to 9\n",
      " is now at space 9\n",
      "\n"
     ]
    },
    {
     "name": "stdin",
     "output_type": "stream",
     "text": [
      "It is 's turn            \n",
      " is at space 84 \n"
     ]
    },
    {
     "name": "stdout",
     "output_type": "stream",
     "text": [
      " rolled a 6!\n",
      " is now at space 90\n",
      "\n"
     ]
    },
    {
     "name": "stdin",
     "output_type": "stream",
     "text": [
      "It is 's turn            \n",
      " is at space 9 \n"
     ]
    },
    {
     "name": "stdout",
     "output_type": "stream",
     "text": [
      " rolled a 4!\n",
      " is now at space 13\n",
      "\n"
     ]
    },
    {
     "name": "stdin",
     "output_type": "stream",
     "text": [
      "It is 's turn            \n",
      " is at space 90 \n"
     ]
    },
    {
     "name": "stdout",
     "output_type": "stream",
     "text": [
      " rolled a 1!\n",
      " is now at space 91\n",
      "\n"
     ]
    },
    {
     "name": "stdin",
     "output_type": "stream",
     "text": [
      "It is 's turn            \n",
      " is at space 13 \n"
     ]
    },
    {
     "name": "stdout",
     "output_type": "stream",
     "text": [
      " rolled a 6!\n",
      " is now at space 19\n",
      "\n"
     ]
    },
    {
     "name": "stdin",
     "output_type": "stream",
     "text": [
      "It is 's turn            \n",
      " is at space 91 \n"
     ]
    },
    {
     "name": "stdout",
     "output_type": "stream",
     "text": [
      " rolled a 5!\n",
      "           /^\\/^\\\n",
      "         _|__|  O|\n",
      "\\/     /~     \\_/ \\\n",
      " \\____|__________/  \\\n",
      "        \\_______      \\\n",
      "                `\\     \\                 \\\n",
      "                  |     |                  \\\n",
      "                 /      /                    \\\n",
      "                /     /                       \\\\\n",
      "              /      /                         \\ \\\n",
      "             /     /                            \\  \\\n",
      "           /     /             _----_            \\   \\\n",
      "          /     /           _-~      ~-_         |   |\n",
      "         (      (        _-~    _--_    ~-_     _/   |\n",
      "          \\      ~-____-~    _-~    ~-_    ~-_-~    /\n",
      "            ~-_           _-~          ~-_       _-~\n",
      "               ~--______-~                ~-___-~\n",
      "You got eaten by a snake! 96 to 77\n",
      " is now at space 77\n",
      "\n"
     ]
    },
    {
     "name": "stdin",
     "output_type": "stream",
     "text": [
      "It is 's turn            \n",
      " is at space 19 \n"
     ]
    },
    {
     "name": "stdout",
     "output_type": "stream",
     "text": [
      " rolled a 6!\n",
      " is now at space 25\n",
      "\n"
     ]
    },
    {
     "name": "stdin",
     "output_type": "stream",
     "text": [
      "It is 's turn            \n",
      " is at space 77 \n"
     ]
    },
    {
     "name": "stdout",
     "output_type": "stream",
     "text": [
      " rolled a 3!\n",
      " is now at space 80\n",
      "\n"
     ]
    },
    {
     "name": "stdin",
     "output_type": "stream",
     "text": [
      "It is 's turn            \n",
      " is at space 25 \n"
     ]
    },
    {
     "name": "stdout",
     "output_type": "stream",
     "text": [
      " rolled a 3!\n",
      " is now at space 28\n",
      "\n"
     ]
    },
    {
     "name": "stdin",
     "output_type": "stream",
     "text": [
      "It is 's turn            \n",
      " is at space 80 \n"
     ]
    },
    {
     "name": "stdout",
     "output_type": "stream",
     "text": [
      " rolled a 4!\n",
      " is now at space 84\n",
      "\n"
     ]
    },
    {
     "name": "stdin",
     "output_type": "stream",
     "text": [
      "It is 's turn            \n",
      " is at space 28 \n"
     ]
    },
    {
     "name": "stdout",
     "output_type": "stream",
     "text": [
      " rolled a 5!\n",
      " is now at space 33\n",
      "\n"
     ]
    },
    {
     "name": "stdin",
     "output_type": "stream",
     "text": [
      "It is 's turn            \n",
      " is at space 84 \n"
     ]
    },
    {
     "name": "stdout",
     "output_type": "stream",
     "text": [
      " rolled a 5!\n",
      " is now at space 89\n",
      "\n"
     ]
    },
    {
     "name": "stdin",
     "output_type": "stream",
     "text": [
      "It is 's turn            \n",
      " is at space 33 \n"
     ]
    },
    {
     "name": "stdout",
     "output_type": "stream",
     "text": [
      " rolled a 4!\n",
      " is now at space 37\n",
      "\n"
     ]
    },
    {
     "name": "stdin",
     "output_type": "stream",
     "text": [
      "It is 's turn            \n",
      " is at space 89 \n"
     ]
    },
    {
     "name": "stdout",
     "output_type": "stream",
     "text": [
      " rolled a 2!\n",
      " is now at space 91\n",
      "\n"
     ]
    },
    {
     "name": "stdin",
     "output_type": "stream",
     "text": [
      "It is 's turn            \n",
      " is at space 37 \n"
     ]
    },
    {
     "name": "stdout",
     "output_type": "stream",
     "text": [
      " rolled a 6!\n",
      " is now at space 43\n",
      "\n"
     ]
    },
    {
     "name": "stdin",
     "output_type": "stream",
     "text": [
      "It is 's turn            \n",
      " is at space 91 \n"
     ]
    },
    {
     "name": "stdout",
     "output_type": "stream",
     "text": [
      " rolled a 6!\n",
      " is now at space 97\n",
      "\n"
     ]
    },
    {
     "name": "stdin",
     "output_type": "stream",
     "text": [
      "It is 's turn            \n",
      " is at space 43 \n"
     ]
    },
    {
     "name": "stdout",
     "output_type": "stream",
     "text": [
      " rolled a 6!\n",
      "╬═╬\n",
      "╬═╬\n",
      "╬═╬\n",
      "╬═╬\n",
      "╬═╬\n",
      "╬═╬\n",
      "╬═╬\n",
      "╬═╬\n",
      "╬═╬\n",
      "╬═╬\n",
      "╬═╬\n",
      "╬═╬\n",
      "╬═╬\n",
      "Climbing from 49 to 66\n",
      " is now at space 66\n",
      "\n"
     ]
    },
    {
     "name": "stdin",
     "output_type": "stream",
     "text": [
      "It is 's turn            \n",
      " is at space 97 \n"
     ]
    },
    {
     "name": "stdout",
     "output_type": "stream",
     "text": [
      " rolled a 1!\n",
      " is now at space 98\n",
      "\n"
     ]
    },
    {
     "name": "stdin",
     "output_type": "stream",
     "text": [
      "It is 's turn            \n",
      " is at space 66 \n"
     ]
    },
    {
     "name": "stdout",
     "output_type": "stream",
     "text": [
      " rolled a 5!\n",
      " is now at space 71\n",
      "\n"
     ]
    },
    {
     "name": "stdin",
     "output_type": "stream",
     "text": [
      "It is 's turn            \n",
      " is at space 98 \n"
     ]
    },
    {
     "name": "stdout",
     "output_type": "stream",
     "text": [
      " rolled a 1!\n",
      " is now at space 99\n",
      "\n"
     ]
    },
    {
     "name": "stdin",
     "output_type": "stream",
     "text": [
      "It is 's turn            \n",
      " is at space 71 \n"
     ]
    },
    {
     "name": "stdout",
     "output_type": "stream",
     "text": [
      " rolled a 2!\n",
      " is now at space 73\n",
      "\n"
     ]
    },
    {
     "name": "stdin",
     "output_type": "stream",
     "text": [
      "It is 's turn            \n",
      " is at space 99 \n"
     ]
    },
    {
     "name": "stdout",
     "output_type": "stream",
     "text": [
      " rolled a 5!\n",
      " wins!\n"
     ]
    }
   ],
   "source": [
    "def read(filename):\n",
    "    with open(filename, 'r') as file:\n",
    "        # Read the contents of the file\n",
    "        content = file.read()\n",
    "    \n",
    "        # Print the contents\n",
    "        print(content)\n",
    "\n",
    "# create the ladders and snakes\n",
    "class Ladders():\n",
    "    ladder_begin_pos = {}\n",
    "    def __init__(self, start, end):\n",
    "        self.start = start\n",
    "        self.end = end\n",
    "\n",
    "        Ladders.ladder_begin_pos[self.start] = self.end\n",
    "\n",
    "    def ladder_start(self):\n",
    "        return ladder_begin_pos\n",
    "\n",
    "    def ladder_end(self):\n",
    "        return self.end\n",
    "\n",
    "class Snakes():\n",
    "    snake_begin_pos = {}\n",
    "    def __init__(self, start, end):\n",
    "        self.start = start\n",
    "        self.end = end\n",
    "\n",
    "        Snakes.snake_begin_pos[self.start] = self.end\n",
    "\n",
    "    def snakes_start(self):\n",
    "        return self.start\n",
    "\n",
    "    def snakes_end(self):\n",
    "        return self.end\n",
    "\n",
    "\n",
    "        \n",
    "ladder_1 = Ladders(1, 37)\n",
    "ladder_2 = Ladders(3, 13)\n",
    "ladder_3 = Ladders(7, 29)\n",
    "ladder_4 = Ladders(20, 41)\n",
    "ladder_5 = Ladders(27, 75)\n",
    "ladder_6 = Ladders(49, 66)\n",
    "ladder_7 = Ladders(70, 91)\n",
    "ladder_8 = Ladders(79, 98)\n",
    "\n",
    "snake_1 = Snakes(96, 77)\n",
    "snake_2 = Snakes(94, 55)\n",
    "snake_3 = Snakes(87, 73)\n",
    "snake_4 = Snakes(63, 17)\n",
    "snake_5 = Snakes(47, 25)\n",
    "snake_6 = Snakes(35, 5)\n",
    "snake_7 = Snakes(31, 9)\n",
    "\n",
    "\n",
    "# create a class to assign player positions\n",
    "# inherit snakes and ladder pos to be able to check if player lands on one\n",
    "# players move across the board class\n",
    "class Player_Pos(Ladders, Snakes):\n",
    "    def __init__(self, name):\n",
    "        self.position = 0\n",
    "        self.name = name\n",
    "\n",
    "    def get_name(self):\n",
    "        return self.name\n",
    "        \n",
    "    def get_pos(self):\n",
    "        return self.position\n",
    "\n",
    "    def set_turn(self, turn):\n",
    "        self.turn = turn\n",
    "        return self.turn\n",
    "\n",
    "    def get_turn(self):\n",
    "        return self.turn\n",
    "\n",
    "    def roll(self):\n",
    "        import random\n",
    "        return random.randint(1, 6)\n",
    "\n",
    "    def set_pos(self, position):\n",
    "        self.position = position\n",
    "\n",
    "\n",
    "\n",
    "\n",
    "def start_game(player_1, player_2):\n",
    "    \n",
    "    print('\\nRoll to see who goes first.\\n')\n",
    "\n",
    "    # P1 rolls\n",
    "    input('P1 Press enter to roll\\n')\n",
    "    p1 = player_1.roll()\n",
    "    print(f'{player_1.get_name()} rolled a {p1}\\n')\n",
    "\n",
    "    # P2 rolls\n",
    "    input('P2 Press enter to roll\\n')\n",
    "    p2 = player_2.roll()\n",
    "    print(f'{player_2.get_name()} rolled a {p2}\\n')\n",
    "\n",
    "    if p1 == p2:\n",
    "        print('\\nTie, roll again\\n')\n",
    "        return start_game(player_1, player_2)  \n",
    "\n",
    "    elif p1 > p2:\n",
    "        print(f'{player_1.get_name()} goes first.\\n')\n",
    "        player_1.set_turn(1)\n",
    "        player_2.set_turn(2)\n",
    "    else:\n",
    "        print(f'{player_2.get_name()} goes first.\\n')\n",
    "        player_2.set_turn(1)\n",
    "        player_1.set_turn(2)\n",
    "\n",
    "    # Return the turns to be used later\n",
    "    return player_1.get_turn(), player_2.get_turn()\n",
    "\n",
    "def choose_players():\n",
    "    player_1 = Player_Pos(input('P1 Enter your name.\\n'))\n",
    "    player_1.set_pos(0)\n",
    "    player_2 = Player_Pos(input('\\nP2 Enter your name.\\n'))\n",
    "    player_2.set_pos(0)\n",
    "\n",
    "    start_game(player_1, player_2)\n",
    "\n",
    "    return player_1, player_2\n",
    "\n",
    "\n",
    "# Start the game and assign turns\n",
    "def play(player_1, player_2):\n",
    "    ladders = Ladders.ladder_begin_pos\n",
    "    snakes = Snakes.snake_begin_pos\n",
    "\n",
    "    current_turn = 1\n",
    "\n",
    "    while True:\n",
    "        if player_1.get_turn() == current_turn:\n",
    "            turn = input(f\"It is {player_1.get_name()}'s turn\\\n",
    "            \\n{player_1.get_name()} is at space {player_1.get_pos()}\")\n",
    "            \n",
    "            roll = player_1.roll()\n",
    "            \n",
    "            print(f'{player_1.get_name()} rolled a {roll}!')\n",
    "            \n",
    "            player_1.set_pos(player_1.get_pos() + roll)\n",
    "            \n",
    "            if player_1.get_pos() in ladders:\n",
    "                read('ladder.txt')\n",
    "                print(f'Climbing from {player_1.get_pos()} to {ladders.get(player_1.get_pos())}')\n",
    "                player_1.set_pos(ladders.get(player_1.get_pos()))\n",
    "\n",
    "            if player_1.get_pos() in snakes:\n",
    "                read('snake.txt')\n",
    "                print(f'You got eaten by a snake! {player_1.get_pos()} to {snakes.get(player_1.get_pos())}')\n",
    "                player_1.set_pos(snakes.get(player_1.get_pos()))\n",
    "\n",
    "            if player_1.get_pos() >= 100:\n",
    "                print(f\"{player_1.get_name()} wins!\")\n",
    "                break\n",
    "    \n",
    "            player_1.set_turn(2)\n",
    "            player_2.set_turn(1)\n",
    "\n",
    "            print(f'{player_1.get_name()} is now at space {player_1.get_pos()}\\n')\n",
    "\n",
    "        else:\n",
    "            turn = input(f\"It is {player_2.get_name()}'s turn\\\n",
    "            \\n{player_2.get_name()} is at space {player_2.get_pos()}\")\n",
    "            \n",
    "            roll = player_2.roll()\n",
    "            \n",
    "            print(f'{player_2.get_name()} rolled a {roll}!')\n",
    "            \n",
    "            player_2.set_pos(player_2.get_pos() + roll)\n",
    "\n",
    "            if player_2.get_pos() in ladders:\n",
    "                read('ladder.txt')\n",
    "                print(f'Climbing from {player_2.get_pos()} to {ladders.get(player_2.get_pos())}')\n",
    "                player_2.set_pos(ladders.get(player_2.get_pos()))\n",
    "\n",
    "            if player_2.get_pos() in snakes:\n",
    "                read('snake.txt')\n",
    "                print(f'You got eaten by a snake! {player_2.get_pos()} to {snakes.get(player_2.get_pos())}')\n",
    "                player_2.set_pos(snakes.get(player_2.get_pos()))\n",
    "\n",
    "            if player_2.get_pos() >= 100:\n",
    "                print(f\"{player_2.get_name()} wins!\")\n",
    "                break\n",
    "                \n",
    "            player_2.set_turn(2)\n",
    "            player_1.set_turn(1)\n",
    "\n",
    "            print(f'{player_2.get_name()} is now at space {player_2.get_pos()}\\n')\n",
    "\n",
    "player_1, player_2 = choose_players()\n",
    "\n",
    "play(player_1, player_2)"
   ]
  },
  {
   "cell_type": "code",
   "execution_count": null,
   "id": "2f9831b0-920e-4748-9a2a-3fb7530fe7b2",
   "metadata": {},
   "outputs": [],
   "source": []
  }
 ],
 "metadata": {
  "kernelspec": {
   "display_name": "Python 3 (ipykernel)",
   "language": "python",
   "name": "python3"
  },
  "language_info": {
   "codemirror_mode": {
    "name": "ipython",
    "version": 3
   },
   "file_extension": ".py",
   "mimetype": "text/x-python",
   "name": "python",
   "nbconvert_exporter": "python",
   "pygments_lexer": "ipython3",
   "version": "3.12.4"
  }
 },
 "nbformat": 4,
 "nbformat_minor": 5
}
